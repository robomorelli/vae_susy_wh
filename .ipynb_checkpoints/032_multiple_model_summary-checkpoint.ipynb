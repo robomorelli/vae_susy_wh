{
 "cells": [
  {
   "cell_type": "code",
   "execution_count": 4,
   "metadata": {},
   "outputs": [],
   "source": [
    "import numpy as np\n",
    "\n",
    "import numpy\n",
    "import pandas as pd\n",
    "from pathlib import Path\n",
    "\n",
    "import json\n",
    "import os\n",
    "import shutil\n",
    "\n",
    "from config import *"
   ]
  },
  {
   "cell_type": "markdown",
   "metadata": {},
   "source": [
    "# Model dependent"
   ]
  },
  {
   "cell_type": "code",
   "execution_count": 5,
   "metadata": {},
   "outputs": [
    {
     "name": "stdout",
     "output_type": "stream",
     "text": [
      "the dictionaries for the following signal injection will be updated: ['650_300']\n"
     ]
    }
   ],
   "source": [
    "sig_names = os.listdir(model_dep_results_multiple)\n",
    "print('the dictionaries for the following signal injection will be updated: {}'.format(sig_names))"
   ]
  },
  {
   "cell_type": "code",
   "execution_count": 6,
   "metadata": {},
   "outputs": [
    {
     "data": {
      "text/plain": [
       "'model_results/model_dependent/multiple_train/'"
      ]
     },
     "execution_count": 6,
     "metadata": {},
     "output_type": "execute_result"
    }
   ],
   "source": [
    "model_dep_results_multiple"
   ]
  },
  {
   "cell_type": "code",
   "execution_count": 9,
   "metadata": {},
   "outputs": [
    {
     "name": "stdout",
     "output_type": "stream",
     "text": [
      "the following models will be updated: ['0_1_3_ft_3']\n"
     ]
    }
   ],
   "source": [
    "for s_n in sig_names:\n",
    "    fold_names = os.listdir(model_dep_results_multiple + '/' + s_n)\n",
    "    print('the following models will be updated: {}'.format(fold_names))"
   ]
  },
  {
   "cell_type": "code",
   "execution_count": 5,
   "metadata": {},
   "outputs": [
    {
     "name": "stdout",
     "output_type": "stream",
     "text": [
      "w_5_10_10\n",
      "model_results/model_dependent/bump_multiple_train//650_300/0_1_2_ft_3/w_5_10_10\n"
     ]
    }
   ],
   "source": [
    "path_append =[]\n",
    "for s_n in sig_names:\n",
    "    fold_names = os.listdir(model_dep_results_bump_multiple + '/' + s_n)\n",
    "    for fold_name in fold_names:  \n",
    "        fold_name_path = model_dep_results_bump_multiple + '/' + s_n + '/' + fold_name\n",
    "        try:\n",
    "            weights_names = os.listdir(fold_name_path)\n",
    "        except:\n",
    "            continue\n",
    "\n",
    "        for i,weights_name in enumerate(weights_names):  \n",
    "            print(weights_name)\n",
    "            path = fold_name_path + '/' + weights_name\n",
    "            filenames = os.listdir(path)\n",
    "            names_csv = [name  for name in filenames if name.split('.')[-1]=='csv']\n",
    "\n",
    "    #         ###CHECK HOSTNAME\n",
    "    #         host = directory\n",
    "            header = True\n",
    "            total = []\n",
    "\n",
    "            for ix, n in enumerate(names_csv):\n",
    "                if 'summary' not in n:\n",
    "                    df = pd.read_csv(path + '/' + n)\n",
    "\n",
    "                    val_loss = df['val_loss'].min()\n",
    "                    KL_loss = df['val_KL_loss'].min()\n",
    "    #                 metric =  df['val_RecoNLL_metric'].min()\n",
    "                    model_num = n.split('.')[0].split('_')[-1]\n",
    "                    epochs = len(df)\n",
    "\n",
    "                    total.append([val_loss,KL_loss, epochs, model_num])\n",
    "\n",
    "            columns = ['val_loss', 'val_KL_loss','epochs','model_num']\n",
    "            analysis = pd.DataFrame(total, columns=columns)\n",
    "\n",
    "            print(path)\n",
    "            path_append.append(path.split('//')[1] + '/' + 'result_summary.csv')\n",
    "\n",
    "            analysis.to_csv(path  + '/' + 'result_summary.csv')"
   ]
  },
  {
   "cell_type": "code",
   "execution_count": 6,
   "metadata": {},
   "outputs": [
    {
     "name": "stdout",
     "output_type": "stream",
     "text": [
      "650_300/0_1_2_ft_3/w_5_10_10/result_summary.csv\n"
     ]
    }
   ],
   "source": [
    "num = 0\n",
    "df = pd.read_csv(model_dep_results_bump_multiple+path_append[num])\n",
    "print(path_append[num])"
   ]
  },
  {
   "cell_type": "code",
   "execution_count": 7,
   "metadata": {},
   "outputs": [
    {
     "data": {
      "text/html": [
       "<div>\n",
       "<style scoped>\n",
       "    .dataframe tbody tr th:only-of-type {\n",
       "        vertical-align: middle;\n",
       "    }\n",
       "\n",
       "    .dataframe tbody tr th {\n",
       "        vertical-align: top;\n",
       "    }\n",
       "\n",
       "    .dataframe thead th {\n",
       "        text-align: right;\n",
       "    }\n",
       "</style>\n",
       "<table border=\"1\" class=\"dataframe\">\n",
       "  <thead>\n",
       "    <tr style=\"text-align: right;\">\n",
       "      <th></th>\n",
       "      <th>Unnamed: 0</th>\n",
       "      <th>val_loss</th>\n",
       "      <th>val_KL_loss</th>\n",
       "      <th>epochs</th>\n",
       "      <th>model_num</th>\n",
       "    </tr>\n",
       "  </thead>\n",
       "  <tbody>\n",
       "    <tr>\n",
       "      <th>0</th>\n",
       "      <td>0</td>\n",
       "      <td>23.709277</td>\n",
       "      <td>9.418426</td>\n",
       "      <td>281</td>\n",
       "      <td>0</td>\n",
       "    </tr>\n",
       "    <tr>\n",
       "      <th>1</th>\n",
       "      <td>1</td>\n",
       "      <td>17.258310</td>\n",
       "      <td>7.521947</td>\n",
       "      <td>436</td>\n",
       "      <td>1</td>\n",
       "    </tr>\n",
       "    <tr>\n",
       "      <th>2</th>\n",
       "      <td>2</td>\n",
       "      <td>14.008014</td>\n",
       "      <td>7.193204</td>\n",
       "      <td>357</td>\n",
       "      <td>2</td>\n",
       "    </tr>\n",
       "    <tr>\n",
       "      <th>3</th>\n",
       "      <td>3</td>\n",
       "      <td>4.841546</td>\n",
       "      <td>6.210117</td>\n",
       "      <td>285</td>\n",
       "      <td>3</td>\n",
       "    </tr>\n",
       "  </tbody>\n",
       "</table>\n",
       "</div>"
      ],
      "text/plain": [
       "   Unnamed: 0   val_loss  val_KL_loss  epochs  model_num\n",
       "0           0  23.709277     9.418426     281          0\n",
       "1           1  17.258310     7.521947     436          1\n",
       "2           2  14.008014     7.193204     357          2\n",
       "3           3   4.841546     6.210117     285          3"
      ]
     },
     "execution_count": 7,
     "metadata": {},
     "output_type": "execute_result"
    }
   ],
   "source": [
    "df"
   ]
  },
  {
   "cell_type": "code",
   "execution_count": 9,
   "metadata": {},
   "outputs": [
    {
     "data": {
      "text/plain": [
       "26.140645235596875"
      ]
     },
     "execution_count": 9,
     "metadata": {},
     "output_type": "execute_result"
    }
   ],
   "source": [
    "np.sqrt(2050.0)/np.sqrt(3)"
   ]
  },
  {
   "cell_type": "code",
   "execution_count": 10,
   "metadata": {},
   "outputs": [],
   "source": [
    "err1 = np.sqrt(2000)\n",
    "err2 = np.sqrt(2100)\n",
    "err3 = np.sqrt(2050)"
   ]
  },
  {
   "cell_type": "code",
   "execution_count": 11,
   "metadata": {},
   "outputs": [
    {
     "data": {
      "text/plain": [
       "26.140645235596867"
      ]
     },
     "execution_count": 11,
     "metadata": {},
     "output_type": "execute_result"
    }
   ],
   "source": [
    "(1/3)*np.sqrt(err1**2 + err2**2 + err3**2)"
   ]
  },
  {
   "cell_type": "code",
   "execution_count": 12,
   "metadata": {},
   "outputs": [
    {
     "data": {
      "text/plain": [
       "True"
      ]
     },
     "execution_count": 12,
     "metadata": {},
     "output_type": "execute_result"
    }
   ],
   "source": [
    "[x for x in '1234321'][:3]==[x for x in '1234321'][::-1][:3]"
   ]
  },
  {
   "cell_type": "markdown",
   "metadata": {},
   "source": [
    "# Model Independent"
   ]
  },
  {
   "cell_type": "code",
   "execution_count": 13,
   "metadata": {},
   "outputs": [
    {
     "ename": "FileNotFoundError",
     "evalue": "[Errno 2] No such file or directory: 'model_results/bump_multiple_train/'",
     "output_type": "error",
     "traceback": [
      "\u001b[0;31m---------------------------------------------------------------------------\u001b[0m",
      "\u001b[0;31mFileNotFoundError\u001b[0m                         Traceback (most recent call last)",
      "\u001b[0;32m<ipython-input-13-04b7548fdc28>\u001b[0m in \u001b[0;36m<module>\u001b[0;34m\u001b[0m\n\u001b[0;32m----> 1\u001b[0;31m \u001b[0mfold_names\u001b[0m \u001b[0;34m=\u001b[0m \u001b[0mos\u001b[0m\u001b[0;34m.\u001b[0m\u001b[0mlistdir\u001b[0m\u001b[0;34m(\u001b[0m\u001b[0mmodel_results_bump_multiple\u001b[0m\u001b[0;34m)\u001b[0m\u001b[0;34m\u001b[0m\u001b[0;34m\u001b[0m\u001b[0m\n\u001b[0m\u001b[1;32m      2\u001b[0m \u001b[0mprint\u001b[0m\u001b[0;34m(\u001b[0m\u001b[0;34m'the dictionaries for the following models will be updated: {}'\u001b[0m\u001b[0;34m.\u001b[0m\u001b[0mformat\u001b[0m\u001b[0;34m(\u001b[0m\u001b[0mfold_names\u001b[0m\u001b[0;34m)\u001b[0m\u001b[0;34m)\u001b[0m\u001b[0;34m\u001b[0m\u001b[0;34m\u001b[0m\u001b[0m\n",
      "\u001b[0;31mFileNotFoundError\u001b[0m: [Errno 2] No such file or directory: 'model_results/bump_multiple_train/'"
     ]
    }
   ],
   "source": [
    "fold_names = os.listdir(model_results_bump_multiple)\n",
    "print('the dictionaries for the following models will be updated: {}'.format(fold_names))"
   ]
  },
  {
   "cell_type": "code",
   "execution_count": 8,
   "metadata": {},
   "outputs": [
    {
     "name": "stdout",
     "output_type": "stream",
     "text": [
      "w_5_10_10\n",
      "model_results/bump_multiple_train//0_1_2_ft_3_ls_2/w_5_10_10\n",
      "w_1_1_2_1_1_1_1_1\n",
      "model_results/bump_multiple_train//all_ft_0_1_2_3_4_5_6_7_8/w_1_1_2_1_1_1_1_1\n",
      "w_5_10_10\n",
      "model_results/bump_multiple_train//all_ft_0_1_3_8/w_5_10_10\n",
      "bump_weights_1_1_2_1_1_1_1\n",
      "model_results/bump_multiple_train//bump_feat_0_1_2_3_4_5_6_ft_7_mbb_100_350_all_cuts_1000/bump_weights_1_1_2_1_1_1_1\n"
     ]
    }
   ],
   "source": [
    "path_append = []\n",
    "for fold_name in fold_names:  \n",
    "    fold_name_path = model_results_bump_multiple + '/' + fold_name\n",
    "    weights_names = os.listdir(fold_name_path)\n",
    "\n",
    "    for weights_name in weights_names:  \n",
    "        print(weights_name)\n",
    "        path = fold_name_path + '/' + weights_name\n",
    "        filenames = os.listdir(path)\n",
    "        names_csv = [name  for name in filenames if name.split('.')[-1]=='csv']\n",
    "\n",
    "#         ###CHECK HOSTNAME\n",
    "#         host = directory\n",
    "        header = True\n",
    "        total = []\n",
    "\n",
    "        for ix, n in enumerate(names_csv):\n",
    "            if 'summary' not in n:\n",
    "                df = pd.read_csv(path + '/' + n)\n",
    "\n",
    "                val_loss = df['val_loss'].min()\n",
    "                KL_loss = df['val_KL_loss'].min()\n",
    "#                 metric =  df['val_RecoNLL_metric'].min()\n",
    "                model_num = n.split('.')[0].split('_')[-1]\n",
    "                epochs = len(df)\n",
    "\n",
    "                total.append([val_loss,KL_loss, epochs, model_num])\n",
    "\n",
    "        columns = ['val_loss', 'val_KL_loss','epochs','model_num']\n",
    "        analysis = pd.DataFrame(total, columns=columns)\n",
    "\n",
    "        print(path)\n",
    "        path_append.append(path.split('//')[1] + '/' + 'result_summary.csv')\n",
    "\n",
    "        analysis.to_csv(path  + '/' + 'result_summary.csv')"
   ]
  },
  {
   "cell_type": "code",
   "execution_count": 12,
   "metadata": {},
   "outputs": [
    {
     "name": "stdout",
     "output_type": "stream",
     "text": [
      "model_results/bump_multiple_train/0_1_2_ft_3_ls_2/w_5_10_10/result_summary.csv\n"
     ]
    }
   ],
   "source": [
    "df = pd.read_csv(model_results_bump_multiple+path_append[0])\n",
    "print(model_results_bump_multiple+path_append[0])"
   ]
  },
  {
   "cell_type": "code",
   "execution_count": 11,
   "metadata": {},
   "outputs": [
    {
     "data": {
      "text/html": [
       "<div>\n",
       "<style scoped>\n",
       "    .dataframe tbody tr th:only-of-type {\n",
       "        vertical-align: middle;\n",
       "    }\n",
       "\n",
       "    .dataframe tbody tr th {\n",
       "        vertical-align: top;\n",
       "    }\n",
       "\n",
       "    .dataframe thead th {\n",
       "        text-align: right;\n",
       "    }\n",
       "</style>\n",
       "<table border=\"1\" class=\"dataframe\">\n",
       "  <thead>\n",
       "    <tr style=\"text-align: right;\">\n",
       "      <th></th>\n",
       "      <th>Unnamed: 0</th>\n",
       "      <th>val_loss</th>\n",
       "      <th>val_KL_loss</th>\n",
       "      <th>epochs</th>\n",
       "      <th>model_num</th>\n",
       "    </tr>\n",
       "  </thead>\n",
       "  <tbody>\n",
       "    <tr>\n",
       "      <th>0</th>\n",
       "      <td>0</td>\n",
       "      <td>53.716616</td>\n",
       "      <td>5.805009</td>\n",
       "      <td>342</td>\n",
       "      <td>0</td>\n",
       "    </tr>\n",
       "    <tr>\n",
       "      <th>1</th>\n",
       "      <td>1</td>\n",
       "      <td>25.135150</td>\n",
       "      <td>6.127026</td>\n",
       "      <td>350</td>\n",
       "      <td>1</td>\n",
       "    </tr>\n",
       "    <tr>\n",
       "      <th>2</th>\n",
       "      <td>2</td>\n",
       "      <td>21.313834</td>\n",
       "      <td>4.691113</td>\n",
       "      <td>285</td>\n",
       "      <td>2</td>\n",
       "    </tr>\n",
       "    <tr>\n",
       "      <th>3</th>\n",
       "      <td>3</td>\n",
       "      <td>19.466681</td>\n",
       "      <td>3.795193</td>\n",
       "      <td>287</td>\n",
       "      <td>3</td>\n",
       "    </tr>\n",
       "  </tbody>\n",
       "</table>\n",
       "</div>"
      ],
      "text/plain": [
       "   Unnamed: 0   val_loss  val_KL_loss  epochs  model_num\n",
       "0           0  53.716616     5.805009     342          0\n",
       "1           1  25.135150     6.127026     350          1\n",
       "2           2  21.313834     4.691113     285          2\n",
       "3           3  19.466681     3.795193     287          3"
      ]
     },
     "execution_count": 11,
     "metadata": {},
     "output_type": "execute_result"
    }
   ],
   "source": [
    "df"
   ]
  },
  {
   "cell_type": "code",
   "execution_count": null,
   "metadata": {},
   "outputs": [],
   "source": []
  }
 ],
 "metadata": {
  "kernelspec": {
   "display_name": "Python 3",
   "language": "python",
   "name": "python3"
  },
  "language_info": {
   "codemirror_mode": {
    "name": "ipython",
    "version": 3
   },
   "file_extension": ".py",
   "mimetype": "text/x-python",
   "name": "python",
   "nbconvert_exporter": "python",
   "pygments_lexer": "ipython3",
   "version": "3.6.9"
  }
 },
 "nbformat": 4,
 "nbformat_minor": 4
}
